{
 "cells": [
  {
   "cell_type": "code",
   "execution_count": 1,
   "id": "907f67e9",
   "metadata": {},
   "outputs": [
    {
     "name": "stdout",
     "output_type": "stream",
     "text": [
      "My name is Michael\n",
      "The date is 18 September 2022\n"
     ]
    }
   ],
   "source": [
    "# this is my first line of code\n",
    "print(\"My name is Michael\")\n",
    "print(\"The date is 18 September 2022\")"
   ]
  },
  {
   "cell_type": "code",
   "execution_count": 6,
   "id": "4d468a47",
   "metadata": {},
   "outputs": [
    {
     "name": "stdout",
     "output_type": "stream",
     "text": [
      "182900\n"
     ]
    }
   ],
   "source": [
    "# Write a program to analyse real estate data\n",
    "\n",
    "#Total montly sales\n",
    "a,b,c,d,e = (45000,23400,67000,34600,12900)\n",
    "print(a+b+c+d+e)"
   ]
  },
  {
   "cell_type": "code",
   "execution_count": 7,
   "id": "5fcba28f",
   "metadata": {},
   "outputs": [
    {
     "name": "stdout",
     "output_type": "stream",
     "text": [
      "36580.0\n"
     ]
    }
   ],
   "source": [
    "# Average sales per month\n",
    "a,b,c,d,e = (45000,23400,67000,34600,12900)\n",
    "print((a+b+c+d+e)/5)"
   ]
  },
  {
   "cell_type": "code",
   "execution_count": 8,
   "id": "b67b7cc5",
   "metadata": {},
   "outputs": [
    {
     "data": {
      "text/plain": [
       "60500"
      ]
     },
     "execution_count": 8,
     "metadata": {},
     "output_type": "execute_result"
    }
   ],
   "source": [
    "# Property price for Property C\n",
    "\n",
    "c - 6500"
   ]
  },
  {
   "cell_type": "code",
   "execution_count": null,
   "id": "53bb4ebb",
   "metadata": {},
   "outputs": [],
   "source": []
  }
 ],
 "metadata": {
  "kernelspec": {
   "display_name": "Python 3 (ipykernel)",
   "language": "python",
   "name": "python3"
  },
  "language_info": {
   "codemirror_mode": {
    "name": "ipython",
    "version": 3
   },
   "file_extension": ".py",
   "mimetype": "text/x-python",
   "name": "python",
   "nbconvert_exporter": "python",
   "pygments_lexer": "ipython3",
   "version": "3.9.12"
  }
 },
 "nbformat": 4,
 "nbformat_minor": 5
}
